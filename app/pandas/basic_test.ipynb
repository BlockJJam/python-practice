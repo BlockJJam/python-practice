{
 "cells": [
  {
   "cell_type": "code",
   "execution_count": 2,
   "metadata": {},
   "outputs": [
    {
     "data": {
      "text/plain": "'1.4.2'"
     },
     "execution_count": 2,
     "metadata": {},
     "output_type": "execute_result"
    }
   ],
   "source": [
    "import pandas as pd\n",
    "\n",
    "pd.__version__"
   ]
  },
  {
   "cell_type": "code",
   "execution_count": 3,
   "metadata": {},
   "outputs": [
    {
     "name": "stdout",
     "output_type": "stream",
     "text": [
      "series\n",
      "---------------\n",
      "pizza      1700\n",
      "chicken    1800\n",
      "beer       5000\n",
      "dtype: int64\n"
     ]
    }
   ],
   "source": [
    "sr = pd.Series([1700, 1800, 5000],\n",
    "                index = ['pizza', 'chicken', 'beer'])\n",
    "print('series')\n",
    "print('-' *15)\n",
    "print(sr)"
   ]
  },
  {
   "cell_type": "code",
   "execution_count": 17,
   "metadata": {},
   "outputs": [
    {
     "name": "stdout",
     "output_type": "stream",
     "text": [
      "       a  b  c\n",
      "one    1  2  3\n",
      "two    4  5  6\n",
      "three  7  8  9\n",
      "dataframe idx: Index(['one', 'two', 'three'], dtype='object')\n",
      "dataframe col: Index(['a', 'b', 'c'], dtype='object')\n",
      "dataframe value:\n",
      "[[1 2 3]\n",
      " [4 5 6]\n",
      " [7 8 9]]\n",
      "---------------\n",
      "   0  1  2\n",
      "0  1  2  3\n",
      "1  4  5  6\n",
      "2  7  8  9\n",
      "---------------\n",
      "     a\n",
      "b c   \n",
      "2 3  1\n",
      "5 6  4\n",
      "8 9  7\n"
     ]
    }
   ],
   "source": [
    "value = [[1,2,3],[4,5,6],[7,8,9]]\n",
    "index = ['one','two','three']\n",
    "column = ['a','b','c']\n",
    "\n",
    "df = pd.DataFrame(value, index = index, columns= column)\n",
    "print(df)\n",
    "print('dataframe idx: {}'.format(df.index))\n",
    "print('dataframe col: {}'.format(df.columns))\n",
    "print('dataframe value:')\n",
    "print(df.values)\n",
    "\n",
    "print('-' * 15)\n",
    "df = pd.DataFrame(value)\n",
    "print(df)\n",
    "print('-' * 15)\n",
    "df = pd.DataFrame(value, columns=['a','b','c'])\n",
    "print(df.set_index(['b','c']))\n"
   ]
  },
  {
   "cell_type": "code",
   "execution_count": 19,
   "metadata": {},
   "outputs": [
    {
     "name": "stdout",
     "output_type": "stream",
     "text": [
      "   a  b  c\n",
      "ㄱ  1  2  3\n",
      "--------------------\n",
      "   a  b  c\n",
      "ㄴ  4  5  6\n",
      "ㄷ  7  8  9\n"
     ]
    }
   ],
   "source": [
    "df = pd.DataFrame(value, index = ['ㄱ','ㄴ','ㄷ'], columns=['a','b','c'])\n",
    "print(df.head(1))\n",
    "print('-'*20)\n",
    "print(df.tail(2))"
   ]
  },
  {
   "cell_type": "code",
   "execution_count": 6,
   "metadata": {},
   "outputs": [
    {
     "name": "stdout",
     "output_type": "stream",
     "text": [
      "    Unnamed: 0                 0             1\n",
      "0            0      유가증권 단축 종목코드          5930\n",
      "1            1          주식 체결 시간        111216\n",
      "2            2            주식 현재가         58900\n",
      "3            3          전일 대비 부호             2\n",
      "4            4             전일 대비           100\n",
      "5            5            전일 대비율          0.17\n",
      "6            6       가중 평균 주식 가격      59103.57\n",
      "7            7             주식 시가         59200\n",
      "8            8            주식 최고가         59500\n",
      "9            9            주식 최저가         58700\n",
      "10          10             매도호가1         58900\n",
      "11          11             매수호가1         58800\n",
      "12          12            체결 거래량             2\n",
      "13          13            누적 거래량       6782096\n",
      "14          14          누적 거래 대금  400845051900\n",
      "15          15          매도 체결 건수          8472\n",
      "16          16          매수 체결 건수         20615\n",
      "17          17         순매수 체결 건수         12143\n",
      "18          18              체결강도         87.27\n",
      "19          19           총 매도 수량       3484495\n",
      "20          20           총 매수 수량       3040756\n",
      "21          21              체결구분             1\n",
      "22          22              매수비율          0.45\n",
      "23          23     전일 거래량 대비 등락율         37.42\n",
      "24          24             시가 시간         90007\n",
      "25          25            시가대비구분             5\n",
      "26          26              시가대비          -300\n",
      "27          27            최고가 시간         90304\n",
      "28          28            고가대비구분             5\n",
      "29          29              고가대비          -600\n",
      "30          30            최저가 시간        105614\n",
      "31          31            저가대비구분             2\n",
      "32          32              저가대비           200\n",
      "33          33             영업 일자      20220628\n",
      "34          34       신 장운영 구분 코드            20\n",
      "35          35           거래정지 여부             N\n",
      "36          36          매도호가 잔량1        199483\n",
      "37          37          매수호가 잔량1         99966\n",
      "38          38         총 매도호가 잔량       1187998\n",
      "39          39         총 매수호가 잔량       3529120\n",
      "40          40           거래량 회전율          0.11\n",
      "41          41     전일 동시간 누적 거래량       8059224\n",
      "42          42  전일 동시간 누적 거래량 비율         84.15\n",
      "43          43          시간 구분 코드             0\n",
      "44          44          임의종료구분코드           NaN\n",
      "45          45         정적VI발동기준가         59200\n"
     ]
    }
   ],
   "source": [
    "import os\n",
    "\n",
    "try:\n",
    "    import openpyxl\n",
    "except:\n",
    "    os.system('pip install openpyxl')\n",
    "    \n",
    "df = pd.read_excel('../실시간1.xlsx')\n",
    "print(df)\n"
   ]
  }
 ],
 "metadata": {
  "kernelspec": {
   "display_name": "Python 3.9.2 64-bit",
   "name": "python392jvsc74a57bd0f8daf4ed26fb93753ada4f643c60a1a6bbde74aaa1078fecd9771f808085cfc9"
  },
  "language_info": {
   "codemirror_mode": {
    "name": "ipython",
    "version": 3
   },
   "file_extension": ".py",
   "mimetype": "text/x-python",
   "name": "python",
   "nbconvert_exporter": "python",
   "pygments_lexer": "ipython3",
   "version": "3.9.2"
  },
  "orig_nbformat": 2
 },
 "nbformat": 4,
 "nbformat_minor": 2
}