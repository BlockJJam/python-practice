{
 "cells": [
  {
   "cell_type": "code",
   "execution_count": 17,
   "metadata": {},
   "outputs": [
    {
     "data": {
      "text/plain": "'default'"
     },
     "execution_count": 17,
     "metadata": {},
     "output_type": "execute_result"
    }
   ],
   "source": [
    "class DynamicAttribute:\n",
    "    def __init__(self, attribute):\n",
    "        self.attribute = attribute\n",
    "\n",
    "    def __getattr__(self, attr: str):\n",
    "        if attr.startswith('fallback_'):\n",
    "            name = attr.replace('fallback_', '')\n",
    "            return f'[falback resolved] {name}'\n",
    "        raise AttributeError(f'{self.__class__.__name__}에는 {attr} 속성이 없음')\n",
    "    \n",
    "dyn = DynamicAttribute('value')\n",
    "dyn.attribute\n",
    "dyn.fallback_test # 들어온 속성이름에 fallback_이 붙으면 string return \n",
    "dyn.attribute\n",
    "dyn.__dict__['fallback_new'] = 'new value'\n",
    "dyn.fallback_new\n",
    "# dyn.falback_good  # <- error: 없는 속성은 에러\n",
    "\n",
    "getattr(dyn, 'something','default') # 예외가 발생하면 __default 필드 기본값을 가져옴\n",
    "\n",
    "\n",
    "\n",
    "        "
   ]
  }
 ],
 "metadata": {
  "kernelspec": {
   "display_name": "Python 3.9.2 64-bit",
   "name": "python392jvsc74a57bd0f8daf4ed26fb93753ada4f643c60a1a6bbde74aaa1078fecd9771f808085cfc9"
  },
  "language_info": {
   "codemirror_mode": {
    "name": "ipython",
    "version": 3
   },
   "file_extension": ".py",
   "mimetype": "text/x-python",
   "name": "python",
   "nbconvert_exporter": "python",
   "pygments_lexer": "ipython3",
   "version": "3.9.2"
  },
  "orig_nbformat": 2
 },
 "nbformat": 4,
 "nbformat_minor": 2
}