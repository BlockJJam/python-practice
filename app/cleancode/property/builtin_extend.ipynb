{
 "cells": [
  {
   "cell_type": "code",
   "execution_count": 7,
   "metadata": {},
   "outputs": [
    {
     "data": {
      "text/plain": "'[짝수] 0 [홀수] 1 [짝수] 2'"
     },
     "execution_count": 7,
     "metadata": {},
     "output_type": "execute_result"
    }
   ],
   "source": [
    "from collections import UserList\n",
    "\n",
    "class GoodList(UserList):\n",
    "    def __getitem__(self, index):\n",
    "        value = super().__getitem__(index)\n",
    "        if index % 2 == 0:\n",
    "            prefix = '짝수'\n",
    "        else:\n",
    "            prefix = '홀수'\n",
    "\n",
    "        return f'[{prefix}] {value}'\n",
    "\n",
    "g1 = GoodList((0,1,2))\n",
    "g1[0]\n",
    "g1[1]\n",
    "\n",
    "' '.join(g1)"
   ]
  }
 ],
 "metadata": {
  "kernelspec": {
   "display_name": "Python 3.9.2 64-bit",
   "name": "python392jvsc74a57bd0f8daf4ed26fb93753ada4f643c60a1a6bbde74aaa1078fecd9771f808085cfc9"
  },
  "language_info": {
   "codemirror_mode": {
    "name": "ipython",
    "version": 3
   },
   "file_extension": ".py",
   "mimetype": "text/x-python",
   "name": "python",
   "nbconvert_exporter": "python",
   "pygments_lexer": "ipython3",
   "version": "3.9.2"
  },
  "orig_nbformat": 2
 },
 "nbformat": 4,
 "nbformat_minor": 2
}