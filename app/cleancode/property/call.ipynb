{
 "cells": [
  {
   "cell_type": "code",
   "execution_count": 15,
   "metadata": {},
   "outputs": [
    {
     "name": "stdout",
     "output_type": "stream",
     "text": [
      "1\n",
      "1\n",
      "2\n",
      "1\n",
      "defaultdict(<class 'int'>, {3: 1, 1: 2, 'something': 1})\n",
      "3 : 1\n",
      "1 : 2\n",
      "something : 1\n"
     ]
    }
   ],
   "source": [
    "# __call__ 에 대해\n",
    "# 함수처럼 동작하는 객체를 정의한다면?\n",
    "\n",
    "from collections import defaultdict\n",
    "\n",
    "class CallCount:\n",
    "    def __init__(self):\n",
    "        self._counts = defaultdict(int)\n",
    "\n",
    "    def __call__(self, arg):\n",
    "        self._counts[arg] += 1\n",
    "        return self._counts[arg]\n",
    "\n",
    "cc1 = CallCount()\n",
    "print(cc1(3))\n",
    "print(cc1(1))\n",
    "print(cc1(1))\n",
    "print(cc1('something'))\n",
    "print(cc1._counts)\n",
    "for k, v in cc1._counts.items():\n",
    "    print(f'{k} : {v}')\n",
    "\n",
    "\n",
    "\n",
    "\n"
   ]
  }
 ],
 "metadata": {
  "kernelspec": {
   "display_name": "Python 3.9.2 64-bit",
   "name": "python392jvsc74a57bd0f8daf4ed26fb93753ada4f643c60a1a6bbde74aaa1078fecd9771f808085cfc9"
  },
  "language_info": {
   "codemirror_mode": {
    "name": "ipython",
    "version": 3
   },
   "file_extension": ".py",
   "mimetype": "text/x-python",
   "name": "python",
   "nbconvert_exporter": "python",
   "pygments_lexer": "ipython3",
   "version": "3.9.2"
  },
  "orig_nbformat": 2
 },
 "nbformat": 4,
 "nbformat_minor": 2
}