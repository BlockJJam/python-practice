{
 "cells": [
  {
   "cell_type": "code",
   "execution_count": 34,
   "metadata": {},
   "outputs": [],
   "source": [
    "import re\n",
    "\n",
    "EMAIL_FORMAT = re.compile(r\"[^@]+@[^@]+[^@]+\")\n",
    "\n",
    "def is_valid_email(potentialY_valid_email: str):\n",
    "    return re.match(EMAIL_FORMAT, potentialY_valid_email) is not None\n",
    "\n",
    "class User:\n",
    "    def __init__(self, username):\n",
    "        self.username = username\n",
    "        self._email = None\n",
    "\n",
    "    @property\n",
    "    def email(self):\n",
    "        return self._email\n",
    "\n",
    "    @email.setter\n",
    "    def email(self, new_email):\n",
    "        if not is_valid_email(new_email):\n",
    "            raise ValueError(f'no email format')\n",
    "        self._email = new_email\n",
    "\n",
    "u1 = User('jjm')\n",
    "u1.email = 'blockjjam@naver.com'"
   ]
  },
  {
   "cell_type": "markdown",
   "metadata": {},
   "source": [
    "## Property\n",
    "- Getter/Setter\n",
    "- 데이터 속성의 접근과 설정"
   ]
  },
  {
   "cell_type": "code",
   "execution_count": 27,
   "metadata": {},
   "outputs": [
    {
     "name": "stdout",
     "output_type": "stream",
     "text": [
      "2019-01-01\n",
      "2019-01-02\n",
      "2019-01-03\n",
      "2019-01-04\n",
      "2019-01-05\n",
      "2019-01-06\n",
      "2019-01-07\n",
      "2019-01-08\n",
      "2019-01-09\n",
      "2019-01-10\n",
      "2019-01-11\n",
      "2019-01-12\n",
      "2019-01-13\n",
      "2019-01-14\n",
      "2019-01-15\n",
      "2019-01-16\n",
      "2019-01-17\n",
      "2019-01-18\n",
      "2019-01-19\n",
      "2019-01-20\n"
     ]
    }
   ],
   "source": [
    "from datetime import timedelta\n",
    "\n",
    "class DateRangeIterable:\n",
    "\n",
    "    def __init__(self, start_date, end_date):\n",
    "        self.start_date = start_date\n",
    "        self.end_date = end_date\n",
    "        self._present_day = start_date\n",
    "\n",
    "    def __iter__(self):\n",
    "        # return self\n",
    "        current_day = self.start_date\n",
    "        while current_day < self.end_date:\n",
    "            yield current_day\n",
    "            current_day += timedelta(days=1)\n",
    "\n",
    "    def __next__(self):\n",
    "        if self._present_day >= self.end_date:\n",
    "            raise StopIteration\n",
    "        today = self._present_day\n",
    "        self._present_day += timedelta(days=1)\n",
    "        return today\n",
    "    \n",
    "from datetime import date\n",
    "for day in DateRangeIterable(date(2019, 1,1), date(2019, 1, 21)):\n",
    "    print(day)"
   ]
  },
  {
   "cell_type": "code",
   "execution_count": 22,
   "metadata": {},
   "outputs": [
    {
     "name": "stdout",
     "output_type": "stream",
     "text": [
      "2019-01-01\n"
     ]
    },
    {
     "ename": "StopIteration",
     "evalue": "",
     "output_type": "error",
     "traceback": [
      "\u001b[0;31m---------------------------------------------------------------------------\u001b[0m",
      "\u001b[0;31mStopIteration\u001b[0m                             Traceback (most recent call last)",
      "Input \u001b[0;32mIn [22]\u001b[0m, in \u001b[0;36m<cell line: 3>\u001b[0;34m()\u001b[0m\n\u001b[1;32m      1\u001b[0m r \u001b[38;5;241m=\u001b[39m DateRangeIterable(date(\u001b[38;5;241m2019\u001b[39m, \u001b[38;5;241m1\u001b[39m,\u001b[38;5;241m1\u001b[39m), date(\u001b[38;5;241m2019\u001b[39m, \u001b[38;5;241m1\u001b[39m, \u001b[38;5;241m2\u001b[39m))\n\u001b[1;32m      2\u001b[0m \u001b[38;5;28mprint\u001b[39m(\u001b[38;5;28mnext\u001b[39m(r))\n\u001b[0;32m----> 3\u001b[0m \u001b[38;5;28mprint\u001b[39m(\u001b[38;5;28;43mnext\u001b[39;49m\u001b[43m(\u001b[49m\u001b[43mr\u001b[49m\u001b[43m)\u001b[49m)\n\u001b[1;32m      4\u001b[0m \u001b[38;5;28mprint\u001b[39m(\u001b[38;5;28mnext\u001b[39m(r))\n",
      "Input \u001b[0;32mIn [20]\u001b[0m, in \u001b[0;36mDateRangeIterable.__next__\u001b[0;34m(self)\u001b[0m\n\u001b[1;32m     13\u001b[0m \u001b[38;5;28;01mdef\u001b[39;00m \u001b[38;5;21m__next__\u001b[39m(\u001b[38;5;28mself\u001b[39m):\n\u001b[1;32m     14\u001b[0m     \u001b[38;5;28;01mif\u001b[39;00m \u001b[38;5;28mself\u001b[39m\u001b[38;5;241m.\u001b[39m_present_day \u001b[38;5;241m>\u001b[39m\u001b[38;5;241m=\u001b[39m \u001b[38;5;28mself\u001b[39m\u001b[38;5;241m.\u001b[39mend_date:\n\u001b[0;32m---> 15\u001b[0m         \u001b[38;5;28;01mraise\u001b[39;00m \u001b[38;5;167;01mStopIteration\u001b[39;00m\n\u001b[1;32m     16\u001b[0m     today \u001b[38;5;241m=\u001b[39m \u001b[38;5;28mself\u001b[39m\u001b[38;5;241m.\u001b[39m_present_day\n\u001b[1;32m     17\u001b[0m     \u001b[38;5;28mself\u001b[39m\u001b[38;5;241m.\u001b[39m_present_day \u001b[38;5;241m+\u001b[39m\u001b[38;5;241m=\u001b[39m timedelta(days\u001b[38;5;241m=\u001b[39m\u001b[38;5;241m1\u001b[39m)\n",
      "\u001b[0;31mStopIteration\u001b[0m: "
     ]
    }
   ],
   "source": [
    "r = DateRangeIterable(date(2019, 1,1), date(2019, 1, 2))\n",
    "print(next(r))\n",
    "print(next(r))\n",
    "print(next(r))"
   ]
  },
  {
   "cell_type": "code",
   "execution_count": 29,
   "metadata": {},
   "outputs": [
    {
     "data": {
      "text/plain": "datetime.date(2019, 1, 2)"
     },
     "execution_count": 29,
     "metadata": {},
     "output_type": "execute_result"
    }
   ],
   "source": [
    "r = DateRangeIterable(date(2019, 1,1), date(2019, 1, 3))\n",
    "\", \".join(map(str, r))\n",
    "max(r)"
   ]
  },
  {
   "cell_type": "code",
   "execution_count": 33,
   "metadata": {},
   "outputs": [
    {
     "name": "stdout",
     "output_type": "stream",
     "text": [
      "2019-01-01\n",
      "2019-01-02\n",
      "2019-01-03\n",
      "2019-01-04\n",
      "2019-01-01\n",
      "2019-01-04\n"
     ]
    }
   ],
   "source": [
    "class DateRangeSequence:\n",
    "    def __init__(self, start_date, end_date):\n",
    "        self.start_date = start_date\n",
    "        self.end_date = end_date\n",
    "        self._range = self._create_range()\n",
    "\n",
    "    def _create_range(self):\n",
    "        days = []\n",
    "        current_day = self.start_date\n",
    "        while current_day < self.end_date:\n",
    "            days.append(current_day)\n",
    "            current_day += timedelta(days=1)\n",
    "        return days\n",
    "\n",
    "    def __getitem__(self, day_no):\n",
    "        return self._range[day_no]\n",
    "\n",
    "    def __len__(self):\n",
    "        return len(self._range)\n",
    "\n",
    "s1 = DateRangeSequence(date(2019,1,1), date(2019, 1, 5))\n",
    "for day in s1:\n",
    "    print(day)\n",
    "\n",
    "print(s1[0])\n",
    "print(s1[-1])\n"
   ]
  },
  {
   "cell_type": "markdown",
   "metadata": {},
   "source": [
    "## Iterator\n",
    "- \\_\\_iter\\_\\_ 와 __next__를 활용한 iterable 클래스 만들기\n",
    "- \\_\\_getitem\\_\\_ 과 __len__으로 iterable 클래스 만들기 "
   ]
  },
  {
   "cell_type": "code",
   "execution_count": 38,
   "metadata": {},
   "outputs": [
    {
     "name": "stdout",
     "output_type": "stream",
     "text": [
      "3\n"
     ]
    }
   ],
   "source": [
    "data = (1,2)\n",
    "x, y = data\n",
    "print( x + y)"
   ]
  },
  {
   "cell_type": "code",
   "execution_count": 43,
   "metadata": {},
   "outputs": [
    {
     "name": "stdout",
     "output_type": "stream",
     "text": [
      "1 2\n",
      "grid contains coord\n"
     ]
    }
   ],
   "source": [
    "class Boundaries:\n",
    "    def __init__(self, width, height):\n",
    "        self.width = width\n",
    "        self.height = height\n",
    "\n",
    "    def __contains__(self, coord:tuple):\n",
    "        x, y = coord\n",
    "        print(x, y)\n",
    "        return 0 <= x < self.width and 0 <= y < self.height\n",
    "\n",
    "class Grid:\n",
    "    def __init__(self, width, height):\n",
    "        self.width = width\n",
    "        self.height = height\n",
    "        self.limits = Boundaries(width, height)\n",
    "    \n",
    "    def __contains__(self, coord:tuple):\n",
    "        return coord in self.limits\n",
    "\n",
    "\n",
    "def mark_coordinate(grid, coord):\n",
    "    if coord in grid:\n",
    "        print(\"grid contains coord\")\n",
    "\n",
    "b = (1,2)\n",
    "g = Grid(10,20)\n",
    "\n",
    "mark_coordinate(g, b)\n"
   ]
  },
  {
   "cell_type": "code",
   "execution_count": null,
   "metadata": {},
   "outputs": [],
   "source": []
  }
 ],
 "metadata": {
  "kernelspec": {
   "display_name": "Python 3.9.2 64-bit",
   "name": "python392jvsc74a57bd0f8daf4ed26fb93753ada4f643c60a1a6bbde74aaa1078fecd9771f808085cfc9"
  },
  "language_info": {
   "codemirror_mode": {
    "name": "ipython",
    "version": 3
   },
   "file_extension": ".py",
   "mimetype": "text/x-python",
   "name": "python",
   "nbconvert_exporter": "python",
   "pygments_lexer": "ipython3",
   "version": "3.9.2"
  },
  "orig_nbformat": 2
 },
 "nbformat": 4,
 "nbformat_minor": 2
}