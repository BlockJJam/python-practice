{
 "cells": [
  {
   "cell_type": "code",
   "execution_count": 3,
   "metadata": {},
   "outputs": [
    {
     "name": "stdout",
     "output_type": "stream",
     "text": [
      "{'username': 'jaemin', 'password': '**민감정보 삭제**', 'ip': '10.10.10.1', 'timestamp': '1993-01-01 01:10'}\n"
     ]
    }
   ],
   "source": [
    "from datetime import datetime\n",
    "from dataclasses import dataclass\n",
    "\n",
    "def hide_field(field:str) -> str:\n",
    "    return '**민감정보 삭제**'\n",
    "\n",
    "def format_time(field_timestamp: datetime) -> str:\n",
    "    return field_timestamp.strftime('%Y-%m-%d %H:%M')\n",
    "\n",
    "def show_original(event_field):\n",
    "    return event_field\n",
    "\n",
    "class EventSerializer:\n",
    "    def __init__(self, serialization_fields: dict) -> None:\n",
    "        self.serialization_fields = serialization_fields\n",
    "\n",
    "    def serialize(self, event) -> dict:\n",
    "        return {\n",
    "            field: transformation(getattr(event, field))\n",
    "            for(field, transformation) in self.serialization_fields.items()\n",
    "        }\n",
    "\n",
    "class Serialization:\n",
    "    def __init__(self, **transformations):\n",
    "        self.serializer = EventSerializer(transformations)\n",
    "\n",
    "    def __call__(self, event_class):\n",
    "        def serialize_method(event_instance):\n",
    "            return self.serializer.serialize(event_instance)\n",
    "        \n",
    "        event_class.serialize = serialize_method\n",
    "        return event_class\n",
    "\n",
    "\n",
    "@Serialization(\n",
    "    username = show_original,\n",
    "    password = hide_field,\n",
    "    ip = show_original,\n",
    "    timestamp = format_time\n",
    ")\n",
    "@dataclass\n",
    "class LoginEvent:\n",
    "    username: str\n",
    "    password: str\n",
    "    ip: str\n",
    "    timestamp: str\n",
    "\n",
    "l1 = LoginEvent('jaemin', '13123123','10.10.10.1', datetime(1993,1,1,1,10))\n",
    "print(l1.serialize())"
   ]
  },
  {
   "cell_type": "code",
   "execution_count": 8,
   "metadata": {},
   "outputs": [
    {
     "data": {
      "text/plain": "'또 test!!! 에서 쿼리 DBHandler 실행'"
     },
     "execution_count": 8,
     "metadata": {},
     "output_type": "execute_result"
    }
   ],
   "source": [
    "from functools import wraps\n",
    "from types import MethodType\n",
    "\n",
    "class DBDriver:\n",
    "    def __init__(self, dbstring):\n",
    "        self.dbstring = dbstring\n",
    "    \n",
    "    def execute(self, query):\n",
    "        return f'{self.dbstring} 에서 쿼리 {query} 실행'\n",
    "\n",
    "class inject_db_driver:\n",
    "    def __init__(self, function):\n",
    "        self.function = function\n",
    "        wraps(self.function)(self)\n",
    "    \n",
    "    def __call__(self, dbstring):\n",
    "        return self.function(DBDriver(dbstring))\n",
    "\n",
    "    def __get__(self, instance, owner):\n",
    "        if instance is None:\n",
    "            return self\n",
    "        return self.__class__(MethodType(self.function, instance))\n",
    "\n",
    "@inject_db_driver\n",
    "def run_query(driver):\n",
    "    return driver.execute('test function')\n",
    "\n",
    "class DBHandler:\n",
    "    @inject_db_driver\n",
    "    def run_query(self, driver):\n",
    "        return driver.execute(self.__class__.__name__)\n",
    "\n",
    "run_query('test!!')\n",
    "DBHandler().run_query('또 test!!!')"
   ]
  },
  {
   "cell_type": "code",
   "execution_count": null,
   "metadata": {},
   "outputs": [],
   "source": []
  }
 ],
 "metadata": {
  "kernelspec": {
   "display_name": "Python 3.9.2 64-bit",
   "name": "python392jvsc74a57bd0f8daf4ed26fb93753ada4f643c60a1a6bbde74aaa1078fecd9771f808085cfc9"
  },
  "language_info": {
   "codemirror_mode": {
    "name": "ipython",
    "version": 3
   },
   "file_extension": ".py",
   "mimetype": "text/x-python",
   "name": "python",
   "nbconvert_exporter": "python",
   "pygments_lexer": "ipython3",
   "version": "3.9.2"
  },
  "orig_nbformat": 2
 },
 "nbformat": 4,
 "nbformat_minor": 2
}