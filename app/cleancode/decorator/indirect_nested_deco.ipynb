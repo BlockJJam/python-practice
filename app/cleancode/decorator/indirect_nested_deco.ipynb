{
 "cells": [
  {
   "cell_type": "code",
   "execution_count": 6,
   "metadata": {},
   "outputs": [
    {
     "name": "stdout",
     "output_type": "stream",
     "text": [
      "error\n",
      "error\n",
      "error\n",
      "error\n",
      "error\n"
     ]
    },
    {
     "ename": "ControlledException",
     "evalue": "error!!",
     "output_type": "error",
     "traceback": [
      "\u001b[0;31m---------------------------------------------------------------------------\u001b[0m",
      "\u001b[0;31mControlledException\u001b[0m                       Traceback (most recent call last)",
      "Input \u001b[0;32mIn [6]\u001b[0m, in \u001b[0;36m<cell line: 33>\u001b[0;34m()\u001b[0m\n\u001b[1;32m     29\u001b[0m \u001b[38;5;129m@with_retry\u001b[39m(retries_limit\u001b[38;5;241m=\u001b[39m \u001b[38;5;241m5\u001b[39m, allowed_exceptions\u001b[38;5;241m=\u001b[39mControlledException)\n\u001b[1;32m     30\u001b[0m \u001b[38;5;28;01mdef\u001b[39;00m \u001b[38;5;21mprintHello\u001b[39m():\n\u001b[1;32m     31\u001b[0m     \u001b[38;5;28;01mraise\u001b[39;00m ControlledException(\u001b[38;5;124m\"\u001b[39m\u001b[38;5;124merror!!\u001b[39m\u001b[38;5;124m\"\u001b[39m)\n\u001b[0;32m---> 33\u001b[0m \u001b[43mprintHello\u001b[49m\u001b[43m(\u001b[49m\u001b[43m)\u001b[49m\n",
      "Input \u001b[0;32mIn [6]\u001b[0m, in \u001b[0;36mwith_retry.<locals>.retry.<locals>.wrapped\u001b[0;34m(*args, **kargs)\u001b[0m\n\u001b[1;32m     22\u001b[0m         \u001b[38;5;28mprint\u001b[39m(\u001b[38;5;124m'\u001b[39m\u001b[38;5;124merror\u001b[39m\u001b[38;5;124m'\u001b[39m)\n\u001b[1;32m     23\u001b[0m         last_raised \u001b[38;5;241m=\u001b[39m e\n\u001b[0;32m---> 24\u001b[0m \u001b[38;5;28;01mraise\u001b[39;00m last_raised\n",
      "Input \u001b[0;32mIn [6]\u001b[0m, in \u001b[0;36mwith_retry.<locals>.retry.<locals>.wrapped\u001b[0;34m(*args, **kargs)\u001b[0m\n\u001b[1;32m     17\u001b[0m \u001b[38;5;28;01mfor\u001b[39;00m _ \u001b[38;5;129;01min\u001b[39;00m \u001b[38;5;28mrange\u001b[39m(retries_limit):\n\u001b[1;32m     18\u001b[0m     \u001b[38;5;28;01mtry\u001b[39;00m:\n\u001b[0;32m---> 19\u001b[0m         \u001b[38;5;28;01mreturn\u001b[39;00m \u001b[43moperation\u001b[49m\u001b[43m(\u001b[49m\u001b[38;5;241;43m*\u001b[39;49m\u001b[43margs\u001b[49m\u001b[43m,\u001b[49m\u001b[43m \u001b[49m\u001b[38;5;241;43m*\u001b[39;49m\u001b[38;5;241;43m*\u001b[39;49m\u001b[43mkargs\u001b[49m\u001b[43m)\u001b[49m\n\u001b[1;32m     20\u001b[0m     \u001b[38;5;28;01mexcept\u001b[39;00m allowed_exceptions \u001b[38;5;28;01mas\u001b[39;00m e:\n\u001b[1;32m     21\u001b[0m         logger\u001b[38;5;241m.\u001b[39minfo(\u001b[38;5;124m'\u001b[39m\u001b[38;5;124mretrying \u001b[39m\u001b[38;5;132;01m%s\u001b[39;00m\u001b[38;5;124m due to \u001b[39m\u001b[38;5;132;01m%s\u001b[39;00m\u001b[38;5;124m'\u001b[39m, operation, e)\n",
      "Input \u001b[0;32mIn [6]\u001b[0m, in \u001b[0;36mprintHello\u001b[0;34m()\u001b[0m\n\u001b[1;32m     29\u001b[0m \u001b[38;5;129m@with_retry\u001b[39m(retries_limit\u001b[38;5;241m=\u001b[39m \u001b[38;5;241m5\u001b[39m, allowed_exceptions\u001b[38;5;241m=\u001b[39mControlledException)\n\u001b[1;32m     30\u001b[0m \u001b[38;5;28;01mdef\u001b[39;00m \u001b[38;5;21mprintHello\u001b[39m():\n\u001b[0;32m---> 31\u001b[0m     \u001b[38;5;28;01mraise\u001b[39;00m ControlledException(\u001b[38;5;124m\"\u001b[39m\u001b[38;5;124merror!!\u001b[39m\u001b[38;5;124m\"\u001b[39m)\n",
      "\u001b[0;31mControlledException\u001b[0m: error!!"
     ]
    }
   ],
   "source": [
    "from functools import wraps\n",
    "import logging\n",
    "logger = logging.getLogger()\n",
    "\n",
    "class ControlledException(Exception):\n",
    "    pass\n",
    "\n",
    "RETRIES_LIMIT = 3\n",
    "\n",
    "def with_retry(retries_limit: int = RETRIES_LIMIT, allowed_exceptions: Exception = None):\n",
    "    allowed_exception = allowed_exceptions or (ControlledException,)\n",
    "\n",
    "    def retry(operation):\n",
    "        @wraps(operation)\n",
    "        def wrapped(*args, **kargs):\n",
    "            last_raised = None\n",
    "            for _ in range(retries_limit):\n",
    "                try:\n",
    "                    return operation(*args, **kargs)\n",
    "                except allowed_exceptions as e:\n",
    "                    logger.info('retrying %s due to %s', operation, e)\n",
    "                    print('error')\n",
    "                    last_raised = e\n",
    "            raise last_raised\n",
    "        return wrapped\n",
    "\n",
    "    return retry\n",
    "\n",
    "@with_retry(retries_limit= 5, allowed_exceptions=ControlledException)\n",
    "def printHello():\n",
    "    raise ControlledException(\"error!!\")\n",
    "\n",
    "printHello()     \n"
   ]
  },
  {
   "cell_type": "code",
   "execution_count": 10,
   "metadata": {},
   "outputs": [
    {
     "name": "stdout",
     "output_type": "stream",
     "text": [
      "error!\n",
      "error!\n",
      "error!\n",
      "error!\n",
      "error!\n",
      "error!\n",
      "error!\n",
      "error!\n",
      "error!\n",
      "error!\n"
     ]
    },
    {
     "ename": "ControlledException",
     "evalue": "error!!!",
     "output_type": "error",
     "traceback": [
      "\u001b[0;31m---------------------------------------------------------------------------\u001b[0m",
      "\u001b[0;31mControlledException\u001b[0m                       Traceback (most recent call last)",
      "Input \u001b[0;32mIn [10]\u001b[0m, in \u001b[0;36m<cell line: 23>\u001b[0;34m()\u001b[0m\n\u001b[1;32m     19\u001b[0m \u001b[38;5;129m@WithRetry\u001b[39m(retries_limit\u001b[38;5;241m=\u001b[39m\u001b[38;5;241m10\u001b[39m,allowed_exceptions\u001b[38;5;241m=\u001b[39mControlledException)\n\u001b[1;32m     20\u001b[0m \u001b[38;5;28;01mdef\u001b[39;00m \u001b[38;5;21mprintError\u001b[39m():\n\u001b[1;32m     21\u001b[0m     \u001b[38;5;28;01mraise\u001b[39;00m ControlledException(\u001b[38;5;124m\"\u001b[39m\u001b[38;5;124merror!!!\u001b[39m\u001b[38;5;124m\"\u001b[39m)\n\u001b[0;32m---> 23\u001b[0m \u001b[43mprintError\u001b[49m\u001b[43m(\u001b[49m\u001b[43m)\u001b[49m\n",
      "Input \u001b[0;32mIn [10]\u001b[0m, in \u001b[0;36mWithRetry.__call__.<locals>.wrapped\u001b[0;34m(*args, **kwargs)\u001b[0m\n\u001b[1;32m     14\u001b[0m         last_raised \u001b[38;5;241m=\u001b[39m e\n\u001b[1;32m     15\u001b[0m         \u001b[38;5;28mprint\u001b[39m(\u001b[38;5;124m'\u001b[39m\u001b[38;5;124merror!\u001b[39m\u001b[38;5;124m'\u001b[39m)\n\u001b[0;32m---> 16\u001b[0m \u001b[38;5;28;01mraise\u001b[39;00m last_raised\n",
      "Input \u001b[0;32mIn [10]\u001b[0m, in \u001b[0;36mWithRetry.__call__.<locals>.wrapped\u001b[0;34m(*args, **kwargs)\u001b[0m\n\u001b[1;32m     10\u001b[0m \u001b[38;5;28;01mfor\u001b[39;00m _ \u001b[38;5;129;01min\u001b[39;00m \u001b[38;5;28mrange\u001b[39m(\u001b[38;5;28mself\u001b[39m\u001b[38;5;241m.\u001b[39mretries_limit):\n\u001b[1;32m     11\u001b[0m     \u001b[38;5;28;01mtry\u001b[39;00m:\n\u001b[0;32m---> 12\u001b[0m         \u001b[38;5;28;01mreturn\u001b[39;00m \u001b[43moperation\u001b[49m\u001b[43m(\u001b[49m\u001b[38;5;241;43m*\u001b[39;49m\u001b[43margs\u001b[49m\u001b[43m,\u001b[49m\u001b[43m \u001b[49m\u001b[38;5;241;43m*\u001b[39;49m\u001b[38;5;241;43m*\u001b[39;49m\u001b[43mkwargs\u001b[49m\u001b[43m)\u001b[49m\n\u001b[1;32m     13\u001b[0m     \u001b[38;5;28;01mexcept\u001b[39;00m \u001b[38;5;28mself\u001b[39m\u001b[38;5;241m.\u001b[39mallowed_exception \u001b[38;5;28;01mas\u001b[39;00m e:\n\u001b[1;32m     14\u001b[0m         last_raised \u001b[38;5;241m=\u001b[39m e\n",
      "Input \u001b[0;32mIn [10]\u001b[0m, in \u001b[0;36mprintError\u001b[0;34m()\u001b[0m\n\u001b[1;32m     19\u001b[0m \u001b[38;5;129m@WithRetry\u001b[39m(retries_limit\u001b[38;5;241m=\u001b[39m\u001b[38;5;241m10\u001b[39m,allowed_exceptions\u001b[38;5;241m=\u001b[39mControlledException)\n\u001b[1;32m     20\u001b[0m \u001b[38;5;28;01mdef\u001b[39;00m \u001b[38;5;21mprintError\u001b[39m():\n\u001b[0;32m---> 21\u001b[0m     \u001b[38;5;28;01mraise\u001b[39;00m ControlledException(\u001b[38;5;124m\"\u001b[39m\u001b[38;5;124merror!!!\u001b[39m\u001b[38;5;124m\"\u001b[39m)\n",
      "\u001b[0;31mControlledException\u001b[0m: error!!!"
     ]
    }
   ],
   "source": [
    "class WithRetry:\n",
    "    def __init__(self, retries_limit=RETRIES_LIMIT, allowed_exceptions=None):\n",
    "        self.retries_limit = retries_limit\n",
    "        self.allowed_exception = allowed_exceptions\n",
    "\n",
    "    def __call__(self, operation):\n",
    "        @wraps(operation)\n",
    "        def wrapped(*args, **kwargs):\n",
    "            last_raised= None\n",
    "            for _ in range(self.retries_limit):\n",
    "                try:\n",
    "                    return operation(*args, **kwargs)\n",
    "                except self.allowed_exception as e:\n",
    "                    last_raised = e\n",
    "                    print('error!')\n",
    "            raise last_raised\n",
    "        return wrapped\n",
    "\n",
    "@WithRetry(retries_limit=10,allowed_exceptions=ControlledException)\n",
    "def printError():\n",
    "    raise ControlledException(\"error!!!\")\n",
    "\n",
    "printError()"
   ]
  }
 ],
 "metadata": {
  "kernelspec": {
   "display_name": "Python 3.9.2 64-bit",
   "name": "python392jvsc74a57bd0f8daf4ed26fb93753ada4f643c60a1a6bbde74aaa1078fecd9771f808085cfc9"
  },
  "language_info": {
   "name": "python",
   "version": ""
  },
  "orig_nbformat": 2
 },
 "nbformat": 4,
 "nbformat_minor": 2
}