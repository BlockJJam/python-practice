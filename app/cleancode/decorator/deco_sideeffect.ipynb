{
 "cells": [
  {
   "cell_type": "code",
   "execution_count": 2,
   "metadata": {},
   "outputs": [
    {
     "name": "stdout",
     "output_type": "stream",
     "text": [
      "{'UserLoginEvent': <class '__main__.UserLoginEvent'>, 'UserlogoutEvent': <class '__main__.UserlogoutEvent'>}\n",
      "{'UserLoginEvent': <class '__main__.UserLoginEvent'>, 'UserlogoutEvent': <class '__main__.UserlogoutEvent'>}\n"
     ]
    }
   ],
   "source": [
    "EVENTS_REGISTRY={}\n",
    "\n",
    "def register_event(event_cls):\n",
    "    EVENTS_REGISTRY[event_cls.__name__] = event_cls\n",
    "    return event_cls\n",
    "\n",
    "class Event:\n",
    "    pass\n",
    "\n",
    "class UserEvent:\n",
    "    pass\n",
    "\n",
    "@register_event\n",
    "class UserLoginEvent(UserEvent):\n",
    "    pass\n",
    "\n",
    "@register_event\n",
    "class UserlogoutEvent(UserEvent):\n",
    "    pass\n",
    "\n",
    "print(EVENTS_REGISTRY)\n",
    "print(EVENTS_REGISTRY)\n"
   ]
  }
 ],
 "metadata": {
  "kernelspec": {
   "display_name": "Python 3.9.2 64-bit ('env': venv)",
   "language": "python",
   "name": "python392jvsc74a57bd0f8daf4ed26fb93753ada4f643c60a1a6bbde74aaa1078fecd9771f808085cfc9"
  },
  "language_info": {
   "codemirror_mode": {
    "name": "ipython",
    "version": 3
   },
   "file_extension": ".py",
   "mimetype": "text/x-python",
   "name": "python",
   "nbconvert_exporter": "python",
   "pygments_lexer": "ipython3",
   "version": "3.9.2"
  },
  "orig_nbformat": 2
 },
 "nbformat": 4,
 "nbformat_minor": 2
}