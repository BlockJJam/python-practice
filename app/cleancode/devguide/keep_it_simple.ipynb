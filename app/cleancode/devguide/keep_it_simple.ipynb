{
 "cells": [
  {
   "cell_type": "code",
   "execution_count": null,
   "metadata": {},
   "outputs": [],
   "source": [
    "class ComplicatedNamespace:\n",
    "    ACCEPTED_VALUES= ('_id','user','location')\n",
    "\n",
    "    @classmethod\n",
    "    def init_with_data(cls, **data):\n",
    "        instance = cls()\n",
    "        for key, value in data.items():\n",
    "            if key in cls.ACCEPTED_VALUES:\n",
    "                setattr(instance, key, value)\n",
    "        \n",
    "        return instance\n",
    "    \n",
    "class Namespace:\n",
    "    ACCEPTED_VALUES= ('_id','user','location')\n",
    "\n",
    "    def __init__(self, **data):\n",
    "        accepted_data = {\n",
    "            k: v for k, v in data.items() if k in self.ACCEPTED_VALUES\n",
    "        }\n",
    "        self.__dict__.update(accepted_data)\n",
    "    \n"
   ]
  }
 ],
 "metadata": {
  "kernelspec": {
   "display_name": "Python 3.9.2 64-bit ('env': venv)",
   "name": "python392jvsc74a57bd0f8daf4ed26fb93753ada4f643c60a1a6bbde74aaa1078fecd9771f808085cfc9"
  },
  "language_info": {
   "name": "python",
   "version": ""
  },
  "orig_nbformat": 2
 },
 "nbformat": 4,
 "nbformat_minor": 2
}