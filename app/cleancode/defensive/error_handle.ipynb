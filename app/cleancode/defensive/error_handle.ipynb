{
 "cells": [
  {
   "cell_type": "code",
   "execution_count": 1,
   "metadata": {},
   "outputs": [],
   "source": [
    "import logging\n",
    "import time\n",
    "logger = logging.getLogger('test')\n",
    "\n",
    "def connect_with_retry(connector, retry_n_times, retry_threshold = 5):\n",
    "    for _ in range(retry_n_times):\n",
    "        try:\n",
    "            return connector.connect()\n",
    "        except ConnectionError as e:\n",
    "            logger.info(\n",
    "                f'{e}: 새로운 연결 시도 {retry_threshold}'\n",
    "            )\n",
    "            time.sleep(retry_threshold)\n",
    "\n",
    "    exc = ConnectionError(f'{retry_n_times} 번째 연결 시도 실패')\n",
    "    logger.exception(exc)\n",
    "    raise exc\n",
    "\n",
    "class DataTransport:\n",
    "    retry_threshold: int = 5\n",
    "    retry_n_times: int = 3\n",
    "\n",
    "    def __init__(self, connector):\n",
    "        self._connector = connector\n",
    "        self.connection = None\n",
    "    \n",
    "    def deliver_event(self, event):\n",
    "        self.connection = connect_with_retry(\n",
    "            self._connector, self.retry_n_times, self.retry_threshold\n",
    "        )\n",
    "        self.send(event)\n",
    "\n",
    "    def send(self, event):\n",
    "        try:\n",
    "            self.connection.send(event.decode())\n",
    "        except ValueError as e:\n",
    "            logger.error('%r 잘못된 데이터 포함: %s', event, e)\n",
    "            raise\n",
    "\n"
   ]
  },
  {
   "cell_type": "markdown",
   "metadata": {},
   "source": [
    "## 올바른 추상화 단계에서 예외 처리\n",
    "- 예외처리는 캡슐화를 약화시킨다, 필요한 예외처리만 하고, 필요한 위치에서 예외처리해야 한다\n",
    "- `deliver_event의` 예외처리를 `connect와` `send` 위치로 분리"
   ]
  },
  {
   "cell_type": "code",
   "execution_count": 4,
   "metadata": {},
   "outputs": [
    {
     "ename": "InternalDataError",
     "evalue": "Custom Error: Record not present",
     "output_type": "error",
     "traceback": [
      "\u001b[0;31m---------------------------------------------------------------------------\u001b[0m",
      "\u001b[0;31mKeyError\u001b[0m                                  Traceback (most recent call last)",
      "Input \u001b[0;32mIn [4]\u001b[0m, in \u001b[0;36mprocess\u001b[0;34m(data_dict, record_id)\u001b[0m\n\u001b[1;32m      9\u001b[0m \u001b[38;5;28;01mtry\u001b[39;00m:\n\u001b[0;32m---> 10\u001b[0m     \u001b[38;5;28;01mreturn\u001b[39;00m \u001b[43mdata_dict\u001b[49m\u001b[43m[\u001b[49m\u001b[43mrecord_id\u001b[49m\u001b[43m]\u001b[49m\n\u001b[1;32m     11\u001b[0m \u001b[38;5;28;01mexcept\u001b[39;00m \u001b[38;5;167;01mKeyError\u001b[39;00m \u001b[38;5;28;01mas\u001b[39;00m e:\n",
      "\u001b[0;31mKeyError\u001b[0m: 'hi'",
      "\nThe above exception was the direct cause of the following exception:\n",
      "\u001b[0;31mInternalDataError\u001b[0m                         Traceback (most recent call last)",
      "Input \u001b[0;32mIn [4]\u001b[0m, in \u001b[0;36m<cell line: 15>\u001b[0;34m()\u001b[0m\n\u001b[1;32m     11\u001b[0m     \u001b[38;5;28;01mexcept\u001b[39;00m \u001b[38;5;167;01mKeyError\u001b[39;00m \u001b[38;5;28;01mas\u001b[39;00m e:\n\u001b[1;32m     12\u001b[0m         \u001b[38;5;28;01mraise\u001b[39;00m InternalDataError(\u001b[38;5;124m'\u001b[39m\u001b[38;5;124mRecord not present\u001b[39m\u001b[38;5;124m'\u001b[39m) \u001b[38;5;28;01mfrom\u001b[39;00m \u001b[38;5;21;01me\u001b[39;00m\n\u001b[0;32m---> 15\u001b[0m \u001b[43mprocess\u001b[49m\u001b[43m(\u001b[49m\u001b[43m{\u001b[49m\u001b[38;5;241;43m0\u001b[39;49m\u001b[43m:\u001b[49m\u001b[38;5;241;43m1\u001b[39;49m\u001b[43m,\u001b[49m\u001b[43m \u001b[49m\u001b[38;5;241;43m1\u001b[39;49m\u001b[43m:\u001b[49m\u001b[38;5;241;43m2\u001b[39;49m\u001b[43m}\u001b[49m\u001b[43m,\u001b[49m\u001b[43m \u001b[49m\u001b[38;5;124;43m'\u001b[39;49m\u001b[38;5;124;43mhi\u001b[39;49m\u001b[38;5;124;43m'\u001b[39;49m\u001b[43m)\u001b[49m\n",
      "Input \u001b[0;32mIn [4]\u001b[0m, in \u001b[0;36mprocess\u001b[0;34m(data_dict, record_id)\u001b[0m\n\u001b[1;32m     10\u001b[0m     \u001b[38;5;28;01mreturn\u001b[39;00m data_dict[record_id]\n\u001b[1;32m     11\u001b[0m \u001b[38;5;28;01mexcept\u001b[39;00m \u001b[38;5;167;01mKeyError\u001b[39;00m \u001b[38;5;28;01mas\u001b[39;00m e:\n\u001b[0;32m---> 12\u001b[0m     \u001b[38;5;28;01mraise\u001b[39;00m InternalDataError(\u001b[38;5;124m'\u001b[39m\u001b[38;5;124mRecord not present\u001b[39m\u001b[38;5;124m'\u001b[39m) \u001b[38;5;28;01mfrom\u001b[39;00m \u001b[38;5;21;01me\u001b[39;00m\n",
      "\u001b[0;31mInternalDataError\u001b[0m: Custom Error: Record not present"
     ]
    }
   ],
   "source": [
    "class InternalDataError(Exception):\n",
    "    def __init__(self, msg):\n",
    "        self._msg = msg\n",
    "\n",
    "    def __str__(self):\n",
    "        return f'Custom Error: {self._msg}'\n",
    "\n",
    "def process(data_dict: dict, record_id: str):\n",
    "    try:\n",
    "        return data_dict[record_id]\n",
    "    except KeyError as e:\n",
    "        raise InternalDataError('Record not present') from e\n",
    "        \n",
    "\n",
    "process({0:1, 1:2}, 'hi')  "
   ]
  },
  {
   "cell_type": "markdown",
   "metadata": {},
   "source": [
    "## 원본예외를 포함시키자\n",
    "- Custom error 클래스로 예외 처리를 하더라도, 원본 예외를 확인할 수 있도록 하자"
   ]
  },
  {
   "cell_type": "code",
   "execution_count": null,
   "metadata": {},
   "outputs": [],
   "source": []
  }
 ],
 "metadata": {
  "kernelspec": {
   "display_name": "Python 3.9.2 64-bit ('env': venv)",
   "name": "python392jvsc74a57bd0f8daf4ed26fb93753ada4f643c60a1a6bbde74aaa1078fecd9771f808085cfc9"
  },
  "language_info": {
   "codemirror_mode": {
    "name": "ipython",
    "version": 3
   },
   "file_extension": ".py",
   "mimetype": "text/x-python",
   "name": "python",
   "nbconvert_exporter": "python",
   "pygments_lexer": "ipython3",
   "version": "3.9.2"
  },
  "orig_nbformat": 2
 },
 "nbformat": 4,
 "nbformat_minor": 2
}