{
 "cells": [
  {
   "cell_type": "code",
   "execution_count": 2,
   "metadata": {},
   "outputs": [
    {
     "data": {
      "text/plain": "'1.22.3'"
     },
     "execution_count": 2,
     "metadata": {},
     "output_type": "execute_result"
    }
   ],
   "source": []
  },
  {
   "cell_type": "code",
   "execution_count": 12,
   "metadata": {},
   "outputs": [
    {
     "name": "stdout",
     "output_type": "stream",
     "text": [
      "[1 2 3 4 5]\n"
     ]
    }
   ],
   "source": [
    "vec = np.array([1,2,3,4,5])\n",
    "print(vec)"
   ]
  },
  {
   "cell_type": "code",
   "execution_count": 17,
   "metadata": {},
   "outputs": [
    {
     "name": "stdout",
     "output_type": "stream",
     "text": [
      "[['1' '2' '3' '4' '5']\n",
      " ['a' 'b' 'c' 'd' 'e']]\n",
      "vec type: <class 'numpy.ndarray'>,  mat type: <class 'numpy.ndarray'>\n"
     ]
    }
   ],
   "source": [
    "mat = np.array([[1,2,3,4,5],['a','b','c','d','e']])\n",
    "print(mat)\n",
    "print('vec type: {},  mat type: {}'.format(type(vec), type(mat)))\n"
   ]
  },
  {
   "cell_type": "code",
   "execution_count": 15,
   "metadata": {},
   "outputs": [
    {
     "name": "stdout",
     "output_type": "stream",
     "text": [
      "vec의 축개수: 1, 크기: (5,)\n",
      "mat의 축개수: 2, 크기: (2, 5)\n"
     ]
    }
   ],
   "source": [
    "print('vec의 축개수: {}, 크기: {}'.format(vec.ndim, vec.shape))\n",
    "print('mat의 축개수: {}, 크기: {}'.format(mat.ndim, mat.shape))\n"
   ]
  },
  {
   "cell_type": "code",
   "execution_count": 28,
   "metadata": {},
   "outputs": [
    {
     "name": "stdout",
     "output_type": "stream",
     "text": [
      "[[0. 0. 0.]\n",
      " [0. 0. 0.]]\n",
      "[[1. 1. 1.]\n",
      " [1. 1. 1.]]\n",
      "[[99 99 99]\n",
      " [99 99 99]]\n",
      "[[1. 0. 0.]\n",
      " [0. 1. 0.]\n",
      " [0. 0. 1.]]\n",
      "[[0.26833955 0.4060544  0.95615114]\n",
      " [0.65873941 0.51046565 0.07652553]\n",
      " [0.55838663 0.80870079 0.38786342]]\n"
     ]
    }
   ],
   "source": [
    "zero_mat = np.zeros((2,3))\n",
    "print(zero_mat)\n",
    "one_mat = np.ones((2,3))\n",
    "print(one_mat)\n",
    "\n",
    "specific_value_mat = np.full((2,3), 99)\n",
    "print(specific_value_mat)\n",
    "\n",
    "eye_mat = np.eye(3)\n",
    "# random_mat = np.random.random_integers(low=1, high=10, size=3)\n",
    "random_mat2 = np.random.random((3,3))\n",
    "print(eye_mat)\n",
    "# print(random_mat)\n",
    "print(random_mat2)"
   ]
  },
  {
   "cell_type": "code",
   "execution_count": 39,
   "metadata": {},
   "outputs": [
    {
     "name": "stdout",
     "output_type": "stream",
     "text": [
      "[0 1 2 3 4 5 6 7 8 9]\n",
      "[1 4 7]\n",
      "[[ 0  1  2  3  4  5]\n",
      " [ 6  7  8  9 10 11]\n",
      " [12 13 14 15 16 17]\n",
      " [18 19 20 21 22 23]\n",
      " [24 25 26 27 28 29]]\n"
     ]
    }
   ],
   "source": [
    "range_vec = np.arange(10)\n",
    "print(range_vec)\n",
    "\n",
    "n= 3\n",
    "range_n_step_vec = np.arange(1, 10, n)\n",
    "print(range_n_step_vec)\n",
    "\n",
    "input_mat = np.arange(30)\n",
    "reshape_mat = np.array(np.arange(30)).reshape((5,int(input_mat.size/5)))\n",
    "print(reshape_mat)\n"
   ]
  },
  {
   "cell_type": "code",
   "execution_count": 43,
   "metadata": {},
   "outputs": [
    {
     "name": "stdout",
     "output_type": "stream",
     "text": [
      "[1 2]\n",
      "[3 4]\n",
      "[5 6]\n",
      "[1 3 5]\n",
      "[2 4 6]\n",
      "2\n",
      "6\n",
      "[5 4]\n"
     ]
    }
   ],
   "source": [
    "before_sliced = np.array([[1,2],[3,4],[5,6]])\n",
    "after_sliced = before_sliced[0,:]\n",
    "print(after_sliced)\n",
    "after_sliced = before_sliced[1,:]\n",
    "print(after_sliced)\n",
    "after_sliced = before_sliced[2,:]\n",
    "print(after_sliced)\n",
    "after_sliced = before_sliced[:,0]\n",
    "print(after_sliced)\n",
    "after_sliced = before_sliced[:,1]\n",
    "print(after_sliced)\n",
    "# after_sliced = before_sliced[:,2]\n",
    "# print(after_sliced)\n",
    "\n",
    "# 특정 인덱스 슬라이스\n",
    "after_sliced = before_sliced[0,1]\n",
    "print(after_sliced)\n",
    "after_sliced = before_sliced[2,1]\n",
    "print(after_sliced)\n",
    "after_sliced = before_sliced[[2,1],[0,1]]\n",
    "print(after_sliced)\n",
    "# after_sliced = before_sliced[[2,1],[1,2]]\n",
    "# print(after_sliced)\n"
   ]
  },
  {
   "cell_type": "code",
   "execution_count": 51,
   "metadata": {},
   "outputs": [
    {
     "name": "stdout",
     "output_type": "stream",
     "text": [
      "[5 7 9]\n",
      "[-3 -3 -3]\n",
      "[ 4 10 18]\n",
      "[0.25 0.4  0.5 ]\n",
      "[[3]\n",
      " [9]]\n"
     ]
    }
   ],
   "source": [
    "x = np.array([1,2,3])\n",
    "y = np.array([4,5,6])\n",
    "\n",
    "result = x+y\n",
    "result = np.add(x,y)\n",
    "print(result)\n",
    "result = x-y\n",
    "result = np.subtract(x,y)\n",
    "print(result)\n",
    "result = x*y\n",
    "result = np.multiply(x,y)\n",
    "print(result)\n",
    "result = x/y\n",
    "result = np.divide(x,y)\n",
    "print(result)\n",
    "\n",
    "mat1 = np.array(\n",
    "    [[1,2],\n",
    "     [4,5]] )\n",
    "mat2 = np.array(\n",
    "    [[1],\n",
    "     [1]])\n",
    "mat3 = np.dot(mat1, mat2)\n",
    "print(mat3)"
   ]
  }
 ],
 "metadata": {
  "kernelspec": {
   "display_name": "Python 3.9.2 64-bit",
   "name": "python392jvsc74a57bd0f8daf4ed26fb93753ada4f643c60a1a6bbde74aaa1078fecd9771f808085cfc9"
  },
  "language_info": {
   "codemirror_mode": {
    "name": "ipython",
    "version": 3
   },
   "file_extension": ".py",
   "mimetype": "text/x-python",
   "name": "python",
   "nbconvert_exporter": "python",
   "pygments_lexer": "ipython3",
   "version": "3.9.2"
  },
  "orig_nbformat": 2
 },
 "nbformat": 4,
 "nbformat_minor": 2
}